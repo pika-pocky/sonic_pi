{
  "nbformat": 4,
  "nbformat_minor": 0,
  "metadata": {
    "colab": {
      "provenance": [],
      "include_colab_link": true
    },
    "kernelspec": {
      "name": "python3",
      "display_name": "Python 3"
    },
    "language_info": {
      "name": "python"
    }
  },
  "cells": [
    {
      "cell_type": "markdown",
      "metadata": {
        "id": "view-in-github",
        "colab_type": "text"
      },
      "source": [
        "<a href=\"https://colab.research.google.com/github/pika-pocky/sonic_pi/blob/main/countdown_timer_boom.ipynb\" target=\"_parent\"><img src=\"https://colab.research.google.com/assets/colab-badge.svg\" alt=\"Open In Colab\"/></a>"
      ]
    },
    {
      "cell_type": "code",
      "execution_count": null,
      "metadata": {
        "id": "2pz0wH8-Kawj"
      },
      "outputs": [],
      "source": [
        "import time\n",
        "\n",
        "# DIRECTIONS: Modify the code below so the timer counts down from 10 to 1, then displays BOOM! Use a WHILE loop!\n",
        "loop = 0\n",
        "counter = 10\n",
        "while counter >0:\n",
        "  print (counter)\n",
        "  counter-=1\n",
        "\n",
        "\n",
        "print(1)\n",
        "time.sleep(0.5)\n",
        "print(2)\n",
        "time.sleep(0.5)\n",
        "print(3)\n",
        "time.sleep(0.5)\n",
        "print(4)\n",
        "time.sleep(0.5)\n",
        "print(5)\n",
        "time.sleep(0.5)\n",
        "print(6)\n",
        "time.sleep(0.5)\n",
        "print(7)\n",
        "time.sleep(0.5)\n",
        "print(8)\n",
        "time.sleep(0.5)\n",
        "print(9)\n",
        "time.sleep(0.5)\n",
        "print(10)\n",
        "time.sleep(0.5)\n",
        "print(\" ____   ___   ___  __   __ _ \")\n",
        "print(\"|  _ \\ / _ \\ / _ \\|  \\ /  | |\")\n",
        "print(\"| |_) ) | | | | | |   v   | |\")\n",
        "print(\"|  _ (| | | | | | | |\\_/| | |\")\n",
        "print(\"| |_) ) |_| | |_| | |   | |_|\")\n",
        "print(\"|____/ \\___/ \\___/|_|   |_(_)\")"
      ]
    }
  ]
}